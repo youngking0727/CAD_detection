{
 "cells": [
  {
   "cell_type": "code",
   "execution_count": 3,
   "id": "5c865dbf",
   "metadata": {},
   "outputs": [],
   "source": [
    "from utils import utils"
   ]
  },
  {
   "cell_type": "code",
   "execution_count": 4,
   "id": "d139dedc",
   "metadata": {},
   "outputs": [],
   "source": [
    "datafolder = 'data/ptbxl/'\n",
    "sampling_frequency = 100\n",
    "data, raw_labels = utils.load_dataset(datafolder, sampling_frequency)"
   ]
  },
  {
   "cell_type": "code",
   "execution_count": 5,
   "id": "4a4e1c83",
   "metadata": {},
   "outputs": [],
   "source": [
    "task = 'diagnostic'\n",
    "labels = utils.compute_label_aggregations(raw_labels, datafolder, task)"
   ]
  },
  {
   "cell_type": "code",
   "execution_count": 6,
   "id": "e000c0dc",
   "metadata": {},
   "outputs": [],
   "source": [
    "outputfolder = \"output/\"\n",
    "min_samples = 0\n",
    "experiment_name = \"exp0\""
   ]
  },
  {
   "cell_type": "code",
   "execution_count": 7,
   "id": "f4268fe5",
   "metadata": {
    "scrolled": true
   },
   "outputs": [],
   "source": [
    "data, labels, Y, _ = utils.select_data(data, labels, task, min_samples, outputfolder+experiment_name+'/data/')"
   ]
  },
  {
   "cell_type": "code",
   "execution_count": 8,
   "id": "2cd39882",
   "metadata": {},
   "outputs": [
    {
     "data": {
      "text/plain": [
       "(21430, 44)"
      ]
     },
     "execution_count": 8,
     "metadata": {},
     "output_type": "execute_result"
    }
   ],
   "source": [
    "Y.shape"
   ]
  },
  {
   "cell_type": "code",
   "execution_count": 9,
   "id": "0a4751b4",
   "metadata": {
    "scrolled": true
   },
   "outputs": [
    {
     "data": {
      "text/plain": [
       "(21430, 1000, 12)"
      ]
     },
     "execution_count": 9,
     "metadata": {},
     "output_type": "execute_result"
    }
   ],
   "source": [
    "data.shape"
   ]
  },
  {
   "cell_type": "code",
   "execution_count": 10,
   "id": "05d13e41",
   "metadata": {},
   "outputs": [
    {
     "data": {
      "text/plain": [
       "array([[-0.119, -0.055,  0.064, ..., -0.026, -0.039, -0.079],\n",
       "       [-0.116, -0.051,  0.065, ..., -0.031, -0.034, -0.074],\n",
       "       [-0.12 , -0.044,  0.076, ..., -0.028, -0.029, -0.069],\n",
       "       ...,\n",
       "       [ 0.069,  0.   , -0.069, ...,  0.024, -0.041, -0.058],\n",
       "       [ 0.086,  0.004, -0.081, ...,  0.242, -0.046, -0.098],\n",
       "       [ 0.022, -0.031, -0.054, ...,  0.143, -0.035, -0.12 ]])"
      ]
     },
     "execution_count": 10,
     "metadata": {},
     "output_type": "execute_result"
    }
   ],
   "source": [
    "data[0]"
   ]
  },
  {
   "cell_type": "code",
   "execution_count": 11,
   "id": "99b8e16a",
   "metadata": {},
   "outputs": [],
   "source": [
    "input_shape = data[0].shape"
   ]
  },
  {
   "cell_type": "code",
   "execution_count": 12,
   "id": "e13e09d3",
   "metadata": {},
   "outputs": [],
   "source": [
    "train_fold = 8\n",
    "val_fold = 9\n",
    "test_fold = 10"
   ]
  },
  {
   "cell_type": "code",
   "execution_count": 13,
   "id": "ef9faab3",
   "metadata": {},
   "outputs": [],
   "source": [
    "X_test = data[labels.strat_fold == test_fold]\n",
    "y_test = Y[labels.strat_fold == test_fold]\n",
    "# 9th fold for validation (8th for now)\n",
    "X_val = data[labels.strat_fold == val_fold]\n",
    "y_val = Y[labels.strat_fold == val_fold]\n",
    "# rest for training\n",
    "X_train = data[labels.strat_fold <= train_fold]\n",
    "y_train = Y[labels.strat_fold <= train_fold]"
   ]
  },
  {
   "cell_type": "code",
   "execution_count": 14,
   "id": "00e52473",
   "metadata": {},
   "outputs": [
    {
     "data": {
      "text/plain": [
       "(17111, 1000, 12)"
      ]
     },
     "execution_count": 14,
     "metadata": {},
     "output_type": "execute_result"
    }
   ],
   "source": [
    "X_train.shape"
   ]
  },
  {
   "cell_type": "code",
   "execution_count": 15,
   "id": "f9589c3f",
   "metadata": {},
   "outputs": [],
   "source": [
    "# Preprocess signal data\n",
    "X_train, X_val, X_test = utils.preprocess_signals(X_train, X_val, X_test, outputfolder+experiment_name+'/data/')\n",
    "n_classes = y_train.shape[1]\n",
    "\n",
    "# save train and test labels\n",
    "y_train.dump(outputfolder + experiment_name + '/data/y_train.npy')\n",
    "y_val.dump(outputfolder + experiment_name + '/data/y_val.npy')\n",
    "y_test.dump(outputfolder + experiment_name + '/data/y_test.npy')"
   ]
  },
  {
   "cell_type": "code",
   "execution_count": 16,
   "id": "ac80486f",
   "metadata": {},
   "outputs": [
    {
     "data": {
      "text/plain": [
       "(1000, 12)"
      ]
     },
     "execution_count": 16,
     "metadata": {},
     "output_type": "execute_result"
    }
   ],
   "source": [
    "X_train[0].shape"
   ]
  },
  {
   "cell_type": "code",
   "execution_count": 17,
   "id": "462fc93a",
   "metadata": {},
   "outputs": [
    {
     "data": {
      "text/plain": [
       "(17111, 44)"
      ]
     },
     "execution_count": 17,
     "metadata": {},
     "output_type": "execute_result"
    }
   ],
   "source": [
    "y_train.shape"
   ]
  },
  {
   "cell_type": "code",
   "execution_count": 18,
   "id": "f26e08f2",
   "metadata": {},
   "outputs": [],
   "source": [
    "import torch\n",
    "import torch.nn as nn\n",
    "import torch.nn.functional as F\n",
    "from torch.utils.data import Dataset, DataLoader\n",
    "from torch.optim import AdamW\n",
    "from torch.optim.lr_scheduler import (CosineAnnealingLR,\n",
    "                                      CosineAnnealingWarmRestarts,\n",
    "                                      StepLR,\n",
    "                                      ExponentialLR)\n",
    "\n",
    "from sklearn.model_selection import train_test_split\n",
    "from sklearn.metrics import precision_recall_curve\n",
    "from sklearn.metrics import classification_report, confusion_matrix\n",
    "from sklearn.metrics import accuracy_score, auc, f1_score, precision_score, recall_score"
   ]
  },
  {
   "cell_type": "code",
   "execution_count": 33,
   "id": "771f7cff",
   "metadata": {},
   "outputs": [],
   "source": [
    "class ECGDataset(Dataset):\n",
    "\n",
    "    def __init__(self, X, y):\n",
    "        self.X = X\n",
    "        self.y = y\n",
    "\n",
    "    def __getitem__(self, idx):\n",
    "        signal = self.X[idx]\n",
    "        target = self.y[idx]\n",
    "        return signal, target\n",
    "\n",
    "    def __len__(self):\n",
    "        return self.X.shape[0]\n",
    "    \n",
    "    def get_dataloader(self, num_workers=4, batch_size=16, shuffle=True):\n",
    "        data_loader = DataLoader(\n",
    "            self, batch_size=batch_size, shuffle=shuffle, num_workers=num_workers,)\n",
    "        return data_loader"
   ]
  },
  {
   "cell_type": "code",
   "execution_count": 20,
   "id": "08591248",
   "metadata": {},
   "outputs": [],
   "source": [
    "class ConvNormPool(nn.Module):\n",
    "    \"\"\"Conv Skip-connection module\"\"\"\n",
    "    def __init__(\n",
    "        self,\n",
    "        input_size,\n",
    "        hidden_size,\n",
    "        kernel_size,\n",
    "        norm_type='bachnorm'\n",
    "    ):\n",
    "        super().__init__()\n",
    "        \n",
    "        self.kernel_size = kernel_size\n",
    "        self.conv_1 = nn.Conv1d(\n",
    "            in_channels=input_size,\n",
    "            out_channels=hidden_size,\n",
    "            kernel_size=kernel_size\n",
    "        )\n",
    "        self.conv_2 = nn.Conv1d(\n",
    "            in_channels=hidden_size,\n",
    "            out_channels=hidden_size,\n",
    "            kernel_size=kernel_size\n",
    "        )\n",
    "        self.conv_3 = nn.Conv1d(\n",
    "            in_channels=hidden_size,\n",
    "            out_channels=hidden_size,\n",
    "            kernel_size=kernel_size\n",
    "        )\n",
    "        self.swish_1 = Swish()\n",
    "        self.swish_2 = Swish()\n",
    "        self.swish_3 = Swish()\n",
    "        if norm_type == 'group':\n",
    "            self.normalization_1 = nn.GroupNorm(\n",
    "                num_groups=8,\n",
    "                num_channels=hidden_size\n",
    "            )\n",
    "            self.normalization_2 = nn.GroupNorm(\n",
    "                num_groups=8,\n",
    "                num_channels=hidden_size\n",
    "            )\n",
    "            self.normalization_3 = nn.GroupNorm(\n",
    "                num_groups=8,\n",
    "                num_channels=hidden_size\n",
    "            )\n",
    "        else:\n",
    "            self.normalization_1 = nn.BatchNorm1d(num_features=hidden_size)\n",
    "            self.normalization_2 = nn.BatchNorm1d(num_features=hidden_size)\n",
    "            self.normalization_3 = nn.BatchNorm1d(num_features=hidden_size)\n",
    "            \n",
    "        self.pool = nn.MaxPool1d(kernel_size=2)\n",
    "        \n",
    "    def forward(self, input):\n",
    "        conv1 = self.conv_1(input)\n",
    "        x = self.normalization_1(conv1)\n",
    "        x = self.swish_1(x)\n",
    "        x = F.pad(x, pad=(self.kernel_size - 1, 0))\n",
    "        \n",
    "        x = self.conv_2(x)\n",
    "        x = self.normalization_2(x)\n",
    "        x = self.swish_2(x)\n",
    "        x = F.pad(x, pad=(self.kernel_size - 1, 0))\n",
    "        \n",
    "        conv3 = self.conv_3(x)\n",
    "        x = self.normalization_3(conv1+conv3)\n",
    "        x = self.swish_3(x)\n",
    "        x = F.pad(x, pad=(self.kernel_size - 1, 0))   \n",
    "        \n",
    "        x = self.pool(x)\n",
    "        return x"
   ]
  },
  {
   "cell_type": "code",
   "execution_count": 21,
   "id": "c592a207",
   "metadata": {},
   "outputs": [],
   "source": [
    "class Swish(nn.Module):\n",
    "    def forward(self, x):\n",
    "        return x * torch.sigmoid(x)\n",
    "    "
   ]
  },
  {
   "cell_type": "code",
   "execution_count": 22,
   "id": "0e3191a2",
   "metadata": {},
   "outputs": [],
   "source": [
    "class RNN(nn.Module):\n",
    "    \"\"\"RNN module(cell type lstm or gru)\"\"\"\n",
    "    def __init__(\n",
    "        self,\n",
    "        input_size,\n",
    "        hid_size,\n",
    "        num_rnn_layers=1,\n",
    "        dropout_p = 0.2,\n",
    "        bidirectional = False,\n",
    "        rnn_type = 'lstm',\n",
    "    ):\n",
    "        super().__init__()\n",
    "        \n",
    "        if rnn_type == 'lstm':\n",
    "            self.rnn_layer = nn.LSTM(\n",
    "                input_size=input_size,\n",
    "                hidden_size=hid_size,\n",
    "                num_layers=num_rnn_layers,\n",
    "                dropout=dropout_p if num_rnn_layers>1 else 0,\n",
    "                bidirectional=bidirectional,\n",
    "                batch_first=True,\n",
    "            )\n",
    "            \n",
    "        else:\n",
    "            self.rnn_layer = nn.GRU(\n",
    "                input_size=input_size,\n",
    "                hidden_size=hid_size,\n",
    "                num_layers=num_rnn_layers,\n",
    "                dropout=dropout_p if num_rnn_layers>1 else 0,\n",
    "                bidirectional=bidirectional,\n",
    "                batch_first=True,\n",
    "            )\n",
    "    def forward(self, input):\n",
    "        outputs, hidden_states = self.rnn_layer(input)\n",
    "        return outputs, hidden_states"
   ]
  },
  {
   "cell_type": "code",
   "execution_count": 23,
   "id": "608f46a2",
   "metadata": {},
   "outputs": [],
   "source": [
    "class RNNAttentionModel(nn.Module):\n",
    "    def __init__(\n",
    "        self,\n",
    "        input_size,\n",
    "        hid_size,\n",
    "        rnn_type,\n",
    "        bidirectional,\n",
    "        n_classes=5,\n",
    "        kernel_size=5,\n",
    "    ):\n",
    "        super().__init__()\n",
    " \n",
    "        self.rnn_layer = RNN(\n",
    "            input_size=46,\n",
    "            hid_size=hid_size,\n",
    "            rnn_type=rnn_type,\n",
    "            bidirectional=bidirectional\n",
    "        )\n",
    "        self.conv1 = ConvNormPool(\n",
    "            input_size=input_size,\n",
    "            hidden_size=hid_size,\n",
    "            kernel_size=kernel_size,\n",
    "        )\n",
    "        self.conv2 = ConvNormPool(\n",
    "            input_size=hid_size,\n",
    "            hidden_size=hid_size,\n",
    "            kernel_size=kernel_size,\n",
    "        )\n",
    "        self.avgpool = nn.AdaptiveMaxPool1d((1))\n",
    "        self.attn = nn.Linear(hid_size, hid_size, bias=False)\n",
    "        self.fc = nn.Linear(in_features=hid_size, out_features=n_classes)\n",
    "        \n",
    "    def forward(self, input):\n",
    "        x = self.conv1(input)\n",
    "        x = self.conv2(x)\n",
    "        x_out, hid_states = self.rnn_layer(x)\n",
    "        x = torch.cat([hid_states[0], hid_states[1]], dim=0).transpose(0, 1)\n",
    "        x_attn = torch.tanh(self.attn(x))\n",
    "        x = x_attn.bmm(x_out)\n",
    "        x = x.transpose(2, 1)\n",
    "        x = self.avgpool(x)\n",
    "        x = x.view(-1, x.size(1) * x.size(2))\n",
    "        x = F.softmax(self.fc(x), dim=-1)\n",
    "        return x"
   ]
  },
  {
   "cell_type": "code",
   "execution_count": 24,
   "id": "ac94062c",
   "metadata": {},
   "outputs": [],
   "source": [
    "class Meter:\n",
    "    def __init__(self, n_classes=5):\n",
    "        self.metrics = {}\n",
    "        self.confusion = torch.zeros((n_classes, n_classes))\n",
    "    \n",
    "    def update(self, x, y, loss):\n",
    "        x = np.argmax(x.detach().cpu().numpy(), axis=1)\n",
    "        y = y.detach().cpu().numpy()\n",
    "        self.metrics['loss'] += loss\n",
    "        self.metrics['accuracy'] += accuracy_score(x,y)\n",
    "        self.metrics['f1'] += f1_score(x,y,average='macro')\n",
    "        self.metrics['precision'] += precision_score(x, y, average='macro', zero_division=1)\n",
    "        self.metrics['recall'] += recall_score(x,y, average='macro', zero_division=1)\n",
    "        \n",
    "        self._compute_cm(x, y)\n",
    "        \n",
    "    def _compute_cm(self, x, y):\n",
    "        for prob, target in zip(x, y):\n",
    "            if prob == target:\n",
    "                self.confusion[target][target] += 1\n",
    "            else:\n",
    "                self.confusion[target][prob] += 1\n",
    "    \n",
    "    def init_metrics(self):\n",
    "        self.metrics['loss'] = 0\n",
    "        self.metrics['accuracy'] = 0\n",
    "        self.metrics['f1'] = 0\n",
    "        self.metrics['precision'] = 0\n",
    "        self.metrics['recall'] = 0\n",
    "        \n",
    "    def get_metrics(self):\n",
    "        return self.metrics\n",
    "    \n",
    "    def get_confusion_matrix(self):\n",
    "        return self.confusion"
   ]
  },
  {
   "cell_type": "code",
   "execution_count": 25,
   "id": "1ae2b03e",
   "metadata": {},
   "outputs": [],
   "source": [
    "device = 'cuda:0' if torch.cuda.is_available() else 'cpu'"
   ]
  },
  {
   "cell_type": "code",
   "execution_count": 26,
   "id": "7ea26f73",
   "metadata": {},
   "outputs": [
    {
     "data": {
      "text/plain": [
       "'cuda:0'"
      ]
     },
     "execution_count": 26,
     "metadata": {},
     "output_type": "execute_result"
    }
   ],
   "source": [
    "device"
   ]
  },
  {
   "cell_type": "code",
   "execution_count": 39,
   "id": "2987b01f",
   "metadata": {},
   "outputs": [],
   "source": [
    "import pandas as pd\n",
    "import time"
   ]
  },
  {
   "cell_type": "code",
   "execution_count": 40,
   "id": "6eedf812",
   "metadata": {},
   "outputs": [],
   "source": [
    "class Trainer:\n",
    "    def __init__(self, net, lr, batch_size, num_epochs):\n",
    "        self.net = net.to(device)\n",
    "        self.num_epochs = num_epochs\n",
    "        self.criterion = nn.CrossEntropyLoss()\n",
    "        self.optimizer = AdamW(self.net.parameters(), lr=lr)\n",
    "        self.scheduler = CosineAnnealingLR(self.optimizer, T_max=num_epochs, eta_min=5e-6)\n",
    "        self.best_loss = float('inf')\n",
    "        self.phases = ['train', 'val']\n",
    "        \"\"\"\n",
    "        self.dataloaders = {\n",
    "            phase: get_dataloader(phase, batch_size) for phase in self.phases\n",
    "        }\n",
    "        \"\"\"\n",
    "        self.dataloaders = {\n",
    "            \"train\": ECGDataset(X_train, y_train).get_dataloader(),\n",
    "            \"val\": ECGDataset(X_train, y_train).get_dataloader()\n",
    "        }\n",
    "        self.train_df_logs = pd.DataFrame()\n",
    "        self.val_df_logs = pd.DataFrame()\n",
    "    \n",
    "    def _train_epoch(self, phase):\n",
    "        print(f\"{phase} mode | time: {time.strftime('%H:%M:%S')}\")\n",
    "        \n",
    "        self.net.train() if phase == 'train' else self.net.eval()\n",
    "        meter = Meter()\n",
    "        meter.init_metrics()\n",
    "        \n",
    "        for i, (data, target) in enumerate(self.dataloaders[phase]):\n",
    "            data = data.to(device)\n",
    "            target = target.to(device)\n",
    "            \n",
    "            output = self.net(data)\n",
    "            loss = self.criterion(output, target)\n",
    "                        \n",
    "            if phase == 'train':\n",
    "                self.optimizer.zero_grad()\n",
    "                loss.backward()\n",
    "                self.optimizer.step()\n",
    "            \n",
    "            meter.update(output, target, loss.item())\n",
    "        \n",
    "        metrics = meter.get_metrics()\n",
    "        metrics = {k:v / i for k, v in metrics.items()}\n",
    "        df_logs = pd.DataFrame([metrics])\n",
    "        confusion_matrix = meter.get_confusion_matrix()\n",
    "        \n",
    "        if phase == 'train':\n",
    "            self.train_df_logs = pd.concat([self.train_df_logs, df_logs], axis=0)\n",
    "        else:\n",
    "            self.val_df_logs = pd.concat([self.val_df_logs, df_logs], axis=0)\n",
    "        \n",
    "        # show logs\n",
    "        print('{}: {}, {}: {}, {}: {}, {}: {}, {}: {}'\n",
    "              .format(*(x for kv in metrics.items() for x in kv))\n",
    "             )\n",
    "        fig, ax = plt.subplots(figsize=(5, 5))\n",
    "        cm_ = ax.imshow(confusion_matrix, cmap='hot')\n",
    "        ax.set_title('Confusion matrix', fontsize=15)\n",
    "        ax.set_xlabel('Actual', fontsize=13)\n",
    "        ax.set_ylabel('Predicted', fontsize=13)\n",
    "        plt.colorbar(cm_)\n",
    "        plt.show()\n",
    "        \n",
    "        return loss\n",
    "    \n",
    "    def run(self):\n",
    "        for epoch in range(self.num_epochs):\n",
    "            self._train_epoch(phase='train')\n",
    "            with torch.no_grad():\n",
    "                val_loss = self._train_epoch(phase='val')\n",
    "                self.scheduler.step()\n",
    "            \n",
    "            if val_loss < self.best_loss:\n",
    "                self.best_loss = val_loss\n",
    "                print('\\nNew checkpoint\\n')\n",
    "                self.best_loss = val_loss\n",
    "                torch.save(self.net.state_dict(), f\"best_model_epoc{epoch}.pth\")\n",
    "            #clear_output()\n",
    "        "
   ]
  },
  {
   "cell_type": "code",
   "execution_count": 41,
   "id": "000c1018",
   "metadata": {},
   "outputs": [],
   "source": [
    "model = RNNAttentionModel(1, 64, 'lstm', False)"
   ]
  },
  {
   "cell_type": "code",
   "execution_count": 42,
   "id": "c22b25b6",
   "metadata": {},
   "outputs": [
    {
     "name": "stdout",
     "output_type": "stream",
     "text": [
      "train mode | time: 14:06:38\n"
     ]
    },
    {
     "ename": "RuntimeError",
     "evalue": "Given groups=1, weight of size [64, 1, 5], expected input[16, 1000, 12] to have 1 channels, but got 1000 channels instead",
     "output_type": "error",
     "traceback": [
      "\u001b[0;31m---------------------------------------------------------------------------\u001b[0m",
      "\u001b[0;31mRuntimeError\u001b[0m                              Traceback (most recent call last)",
      "Cell \u001b[0;32mIn [42], line 2\u001b[0m\n\u001b[1;32m      1\u001b[0m trainer \u001b[38;5;241m=\u001b[39m Trainer(net\u001b[38;5;241m=\u001b[39mmodel, lr\u001b[38;5;241m=\u001b[39m\u001b[38;5;241m1e-3\u001b[39m, batch_size\u001b[38;5;241m=\u001b[39m\u001b[38;5;241m96\u001b[39m, num_epochs\u001b[38;5;241m=\u001b[39m\u001b[38;5;241m10\u001b[39m)\u001b[38;5;66;03m#100)\u001b[39;00m\n\u001b[0;32m----> 2\u001b[0m \u001b[43mtrainer\u001b[49m\u001b[38;5;241;43m.\u001b[39;49m\u001b[43mrun\u001b[49m\u001b[43m(\u001b[49m\u001b[43m)\u001b[49m\n",
      "Cell \u001b[0;32mIn [40], line 69\u001b[0m, in \u001b[0;36mTrainer.run\u001b[0;34m(self)\u001b[0m\n\u001b[1;32m     67\u001b[0m \u001b[38;5;28;01mdef\u001b[39;00m \u001b[38;5;21mrun\u001b[39m(\u001b[38;5;28mself\u001b[39m):\n\u001b[1;32m     68\u001b[0m     \u001b[38;5;28;01mfor\u001b[39;00m epoch \u001b[38;5;129;01min\u001b[39;00m \u001b[38;5;28mrange\u001b[39m(\u001b[38;5;28mself\u001b[39m\u001b[38;5;241m.\u001b[39mnum_epochs):\n\u001b[0;32m---> 69\u001b[0m         \u001b[38;5;28;43mself\u001b[39;49m\u001b[38;5;241;43m.\u001b[39;49m\u001b[43m_train_epoch\u001b[49m\u001b[43m(\u001b[49m\u001b[43mphase\u001b[49m\u001b[38;5;241;43m=\u001b[39;49m\u001b[38;5;124;43m'\u001b[39;49m\u001b[38;5;124;43mtrain\u001b[39;49m\u001b[38;5;124;43m'\u001b[39;49m\u001b[43m)\u001b[49m\n\u001b[1;32m     70\u001b[0m         \u001b[38;5;28;01mwith\u001b[39;00m torch\u001b[38;5;241m.\u001b[39mno_grad():\n\u001b[1;32m     71\u001b[0m             val_loss \u001b[38;5;241m=\u001b[39m \u001b[38;5;28mself\u001b[39m\u001b[38;5;241m.\u001b[39m_train_epoch(phase\u001b[38;5;241m=\u001b[39m\u001b[38;5;124m'\u001b[39m\u001b[38;5;124mval\u001b[39m\u001b[38;5;124m'\u001b[39m)\n",
      "Cell \u001b[0;32mIn [40], line 33\u001b[0m, in \u001b[0;36mTrainer._train_epoch\u001b[0;34m(self, phase)\u001b[0m\n\u001b[1;32m     30\u001b[0m data \u001b[38;5;241m=\u001b[39m data\u001b[38;5;241m.\u001b[39mto(device)\n\u001b[1;32m     31\u001b[0m target \u001b[38;5;241m=\u001b[39m target\u001b[38;5;241m.\u001b[39mto(device)\n\u001b[0;32m---> 33\u001b[0m output \u001b[38;5;241m=\u001b[39m \u001b[38;5;28;43mself\u001b[39;49m\u001b[38;5;241;43m.\u001b[39;49m\u001b[43mnet\u001b[49m\u001b[43m(\u001b[49m\u001b[43mdata\u001b[49m\u001b[43m)\u001b[49m\n\u001b[1;32m     34\u001b[0m loss \u001b[38;5;241m=\u001b[39m \u001b[38;5;28mself\u001b[39m\u001b[38;5;241m.\u001b[39mcriterion(output, target)\n\u001b[1;32m     36\u001b[0m \u001b[38;5;28;01mif\u001b[39;00m phase \u001b[38;5;241m==\u001b[39m \u001b[38;5;124m'\u001b[39m\u001b[38;5;124mtrain\u001b[39m\u001b[38;5;124m'\u001b[39m:\n",
      "File \u001b[0;32m~/anaconda3/envs/torch1.7/lib/python3.8/site-packages/torch/nn/modules/module.py:727\u001b[0m, in \u001b[0;36mModule._call_impl\u001b[0;34m(self, *input, **kwargs)\u001b[0m\n\u001b[1;32m    725\u001b[0m     result \u001b[38;5;241m=\u001b[39m \u001b[38;5;28mself\u001b[39m\u001b[38;5;241m.\u001b[39m_slow_forward(\u001b[38;5;241m*\u001b[39m\u001b[38;5;28minput\u001b[39m, \u001b[38;5;241m*\u001b[39m\u001b[38;5;241m*\u001b[39mkwargs)\n\u001b[1;32m    726\u001b[0m \u001b[38;5;28;01melse\u001b[39;00m:\n\u001b[0;32m--> 727\u001b[0m     result \u001b[38;5;241m=\u001b[39m \u001b[38;5;28;43mself\u001b[39;49m\u001b[38;5;241;43m.\u001b[39;49m\u001b[43mforward\u001b[49m\u001b[43m(\u001b[49m\u001b[38;5;241;43m*\u001b[39;49m\u001b[38;5;28;43minput\u001b[39;49m\u001b[43m,\u001b[49m\u001b[43m \u001b[49m\u001b[38;5;241;43m*\u001b[39;49m\u001b[38;5;241;43m*\u001b[39;49m\u001b[43mkwargs\u001b[49m\u001b[43m)\u001b[49m\n\u001b[1;32m    728\u001b[0m \u001b[38;5;28;01mfor\u001b[39;00m hook \u001b[38;5;129;01min\u001b[39;00m itertools\u001b[38;5;241m.\u001b[39mchain(\n\u001b[1;32m    729\u001b[0m         _global_forward_hooks\u001b[38;5;241m.\u001b[39mvalues(),\n\u001b[1;32m    730\u001b[0m         \u001b[38;5;28mself\u001b[39m\u001b[38;5;241m.\u001b[39m_forward_hooks\u001b[38;5;241m.\u001b[39mvalues()):\n\u001b[1;32m    731\u001b[0m     hook_result \u001b[38;5;241m=\u001b[39m hook(\u001b[38;5;28mself\u001b[39m, \u001b[38;5;28minput\u001b[39m, result)\n",
      "Cell \u001b[0;32mIn [23], line 34\u001b[0m, in \u001b[0;36mRNNAttentionModel.forward\u001b[0;34m(self, input)\u001b[0m\n\u001b[1;32m     33\u001b[0m \u001b[38;5;28;01mdef\u001b[39;00m \u001b[38;5;21mforward\u001b[39m(\u001b[38;5;28mself\u001b[39m, \u001b[38;5;28minput\u001b[39m):\n\u001b[0;32m---> 34\u001b[0m     x \u001b[38;5;241m=\u001b[39m \u001b[38;5;28;43mself\u001b[39;49m\u001b[38;5;241;43m.\u001b[39;49m\u001b[43mconv1\u001b[49m\u001b[43m(\u001b[49m\u001b[38;5;28;43minput\u001b[39;49m\u001b[43m)\u001b[49m\n\u001b[1;32m     35\u001b[0m     x \u001b[38;5;241m=\u001b[39m \u001b[38;5;28mself\u001b[39m\u001b[38;5;241m.\u001b[39mconv2(x)\n\u001b[1;32m     36\u001b[0m     x_out, hid_states \u001b[38;5;241m=\u001b[39m \u001b[38;5;28mself\u001b[39m\u001b[38;5;241m.\u001b[39mrnn_layer(x)\n",
      "File \u001b[0;32m~/anaconda3/envs/torch1.7/lib/python3.8/site-packages/torch/nn/modules/module.py:727\u001b[0m, in \u001b[0;36mModule._call_impl\u001b[0;34m(self, *input, **kwargs)\u001b[0m\n\u001b[1;32m    725\u001b[0m     result \u001b[38;5;241m=\u001b[39m \u001b[38;5;28mself\u001b[39m\u001b[38;5;241m.\u001b[39m_slow_forward(\u001b[38;5;241m*\u001b[39m\u001b[38;5;28minput\u001b[39m, \u001b[38;5;241m*\u001b[39m\u001b[38;5;241m*\u001b[39mkwargs)\n\u001b[1;32m    726\u001b[0m \u001b[38;5;28;01melse\u001b[39;00m:\n\u001b[0;32m--> 727\u001b[0m     result \u001b[38;5;241m=\u001b[39m \u001b[38;5;28;43mself\u001b[39;49m\u001b[38;5;241;43m.\u001b[39;49m\u001b[43mforward\u001b[49m\u001b[43m(\u001b[49m\u001b[38;5;241;43m*\u001b[39;49m\u001b[38;5;28;43minput\u001b[39;49m\u001b[43m,\u001b[49m\u001b[43m \u001b[49m\u001b[38;5;241;43m*\u001b[39;49m\u001b[38;5;241;43m*\u001b[39;49m\u001b[43mkwargs\u001b[49m\u001b[43m)\u001b[49m\n\u001b[1;32m    728\u001b[0m \u001b[38;5;28;01mfor\u001b[39;00m hook \u001b[38;5;129;01min\u001b[39;00m itertools\u001b[38;5;241m.\u001b[39mchain(\n\u001b[1;32m    729\u001b[0m         _global_forward_hooks\u001b[38;5;241m.\u001b[39mvalues(),\n\u001b[1;32m    730\u001b[0m         \u001b[38;5;28mself\u001b[39m\u001b[38;5;241m.\u001b[39m_forward_hooks\u001b[38;5;241m.\u001b[39mvalues()):\n\u001b[1;32m    731\u001b[0m     hook_result \u001b[38;5;241m=\u001b[39m hook(\u001b[38;5;28mself\u001b[39m, \u001b[38;5;28minput\u001b[39m, result)\n",
      "Cell \u001b[0;32mIn [20], line 52\u001b[0m, in \u001b[0;36mConvNormPool.forward\u001b[0;34m(self, input)\u001b[0m\n\u001b[1;32m     51\u001b[0m \u001b[38;5;28;01mdef\u001b[39;00m \u001b[38;5;21mforward\u001b[39m(\u001b[38;5;28mself\u001b[39m, \u001b[38;5;28minput\u001b[39m):\n\u001b[0;32m---> 52\u001b[0m     conv1 \u001b[38;5;241m=\u001b[39m \u001b[38;5;28;43mself\u001b[39;49m\u001b[38;5;241;43m.\u001b[39;49m\u001b[43mconv_1\u001b[49m\u001b[43m(\u001b[49m\u001b[38;5;28;43minput\u001b[39;49m\u001b[43m)\u001b[49m\n\u001b[1;32m     53\u001b[0m     x \u001b[38;5;241m=\u001b[39m \u001b[38;5;28mself\u001b[39m\u001b[38;5;241m.\u001b[39mnormalization_1(conv1)\n\u001b[1;32m     54\u001b[0m     x \u001b[38;5;241m=\u001b[39m \u001b[38;5;28mself\u001b[39m\u001b[38;5;241m.\u001b[39mswish_1(x)\n",
      "File \u001b[0;32m~/anaconda3/envs/torch1.7/lib/python3.8/site-packages/torch/nn/modules/module.py:727\u001b[0m, in \u001b[0;36mModule._call_impl\u001b[0;34m(self, *input, **kwargs)\u001b[0m\n\u001b[1;32m    725\u001b[0m     result \u001b[38;5;241m=\u001b[39m \u001b[38;5;28mself\u001b[39m\u001b[38;5;241m.\u001b[39m_slow_forward(\u001b[38;5;241m*\u001b[39m\u001b[38;5;28minput\u001b[39m, \u001b[38;5;241m*\u001b[39m\u001b[38;5;241m*\u001b[39mkwargs)\n\u001b[1;32m    726\u001b[0m \u001b[38;5;28;01melse\u001b[39;00m:\n\u001b[0;32m--> 727\u001b[0m     result \u001b[38;5;241m=\u001b[39m \u001b[38;5;28;43mself\u001b[39;49m\u001b[38;5;241;43m.\u001b[39;49m\u001b[43mforward\u001b[49m\u001b[43m(\u001b[49m\u001b[38;5;241;43m*\u001b[39;49m\u001b[38;5;28;43minput\u001b[39;49m\u001b[43m,\u001b[49m\u001b[43m \u001b[49m\u001b[38;5;241;43m*\u001b[39;49m\u001b[38;5;241;43m*\u001b[39;49m\u001b[43mkwargs\u001b[49m\u001b[43m)\u001b[49m\n\u001b[1;32m    728\u001b[0m \u001b[38;5;28;01mfor\u001b[39;00m hook \u001b[38;5;129;01min\u001b[39;00m itertools\u001b[38;5;241m.\u001b[39mchain(\n\u001b[1;32m    729\u001b[0m         _global_forward_hooks\u001b[38;5;241m.\u001b[39mvalues(),\n\u001b[1;32m    730\u001b[0m         \u001b[38;5;28mself\u001b[39m\u001b[38;5;241m.\u001b[39m_forward_hooks\u001b[38;5;241m.\u001b[39mvalues()):\n\u001b[1;32m    731\u001b[0m     hook_result \u001b[38;5;241m=\u001b[39m hook(\u001b[38;5;28mself\u001b[39m, \u001b[38;5;28minput\u001b[39m, result)\n",
      "File \u001b[0;32m~/anaconda3/envs/torch1.7/lib/python3.8/site-packages/torch/nn/modules/conv.py:258\u001b[0m, in \u001b[0;36mConv1d.forward\u001b[0;34m(self, input)\u001b[0m\n\u001b[1;32m    254\u001b[0m \u001b[38;5;28;01mif\u001b[39;00m \u001b[38;5;28mself\u001b[39m\u001b[38;5;241m.\u001b[39mpadding_mode \u001b[38;5;241m!=\u001b[39m \u001b[38;5;124m'\u001b[39m\u001b[38;5;124mzeros\u001b[39m\u001b[38;5;124m'\u001b[39m:\n\u001b[1;32m    255\u001b[0m     \u001b[38;5;28;01mreturn\u001b[39;00m F\u001b[38;5;241m.\u001b[39mconv1d(F\u001b[38;5;241m.\u001b[39mpad(\u001b[38;5;28minput\u001b[39m, \u001b[38;5;28mself\u001b[39m\u001b[38;5;241m.\u001b[39m_reversed_padding_repeated_twice, mode\u001b[38;5;241m=\u001b[39m\u001b[38;5;28mself\u001b[39m\u001b[38;5;241m.\u001b[39mpadding_mode),\n\u001b[1;32m    256\u001b[0m                     \u001b[38;5;28mself\u001b[39m\u001b[38;5;241m.\u001b[39mweight, \u001b[38;5;28mself\u001b[39m\u001b[38;5;241m.\u001b[39mbias, \u001b[38;5;28mself\u001b[39m\u001b[38;5;241m.\u001b[39mstride,\n\u001b[1;32m    257\u001b[0m                     _single(\u001b[38;5;241m0\u001b[39m), \u001b[38;5;28mself\u001b[39m\u001b[38;5;241m.\u001b[39mdilation, \u001b[38;5;28mself\u001b[39m\u001b[38;5;241m.\u001b[39mgroups)\n\u001b[0;32m--> 258\u001b[0m \u001b[38;5;28;01mreturn\u001b[39;00m \u001b[43mF\u001b[49m\u001b[38;5;241;43m.\u001b[39;49m\u001b[43mconv1d\u001b[49m\u001b[43m(\u001b[49m\u001b[38;5;28;43minput\u001b[39;49m\u001b[43m,\u001b[49m\u001b[43m \u001b[49m\u001b[38;5;28;43mself\u001b[39;49m\u001b[38;5;241;43m.\u001b[39;49m\u001b[43mweight\u001b[49m\u001b[43m,\u001b[49m\u001b[43m \u001b[49m\u001b[38;5;28;43mself\u001b[39;49m\u001b[38;5;241;43m.\u001b[39;49m\u001b[43mbias\u001b[49m\u001b[43m,\u001b[49m\u001b[43m \u001b[49m\u001b[38;5;28;43mself\u001b[39;49m\u001b[38;5;241;43m.\u001b[39;49m\u001b[43mstride\u001b[49m\u001b[43m,\u001b[49m\n\u001b[1;32m    259\u001b[0m \u001b[43m                \u001b[49m\u001b[38;5;28;43mself\u001b[39;49m\u001b[38;5;241;43m.\u001b[39;49m\u001b[43mpadding\u001b[49m\u001b[43m,\u001b[49m\u001b[43m \u001b[49m\u001b[38;5;28;43mself\u001b[39;49m\u001b[38;5;241;43m.\u001b[39;49m\u001b[43mdilation\u001b[49m\u001b[43m,\u001b[49m\u001b[43m \u001b[49m\u001b[38;5;28;43mself\u001b[39;49m\u001b[38;5;241;43m.\u001b[39;49m\u001b[43mgroups\u001b[49m\u001b[43m)\u001b[49m\n",
      "\u001b[0;31mRuntimeError\u001b[0m: Given groups=1, weight of size [64, 1, 5], expected input[16, 1000, 12] to have 1 channels, but got 1000 channels instead"
     ]
    }
   ],
   "source": [
    "trainer = Trainer(net=model, lr=1e-3, batch_size=96, num_epochs=10)#100)\n",
    "trainer.run()"
   ]
  },
  {
   "cell_type": "code",
   "execution_count": null,
   "id": "6dacb811",
   "metadata": {},
   "outputs": [],
   "source": []
  }
 ],
 "metadata": {
  "kernelspec": {
   "display_name": "Python 3 (ipykernel)",
   "language": "python",
   "name": "python3"
  },
  "language_info": {
   "codemirror_mode": {
    "name": "ipython",
    "version": 3
   },
   "file_extension": ".py",
   "mimetype": "text/x-python",
   "name": "python",
   "nbconvert_exporter": "python",
   "pygments_lexer": "ipython3",
   "version": "3.7.13"
  },
  "vscode": {
   "interpreter": {
    "hash": "19c3c70b7c7027cedf36bded2bdf082fdac0dd6c6b8af0d21b6608383fcae289"
   }
  }
 },
 "nbformat": 4,
 "nbformat_minor": 5
}
